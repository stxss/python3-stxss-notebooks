{
 "cells": [
  {
   "cell_type": "markdown",
   "metadata": {},
   "source": [
    "# Testing with [pytest](https://docs.pytest.org/en/latest/) - part 2"
   ]
  },
  {
   "cell_type": "code",
   "execution_count": 2,
   "metadata": {
    "scrolled": true
   },
   "outputs": [
    {
     "name": "stdout",
     "output_type": "stream",
     "text": [
      "Requirement already satisfied: pytest in c:\\users\\win11\\appdata\\local\\programs\\python\\python310\\lib\\site-packages (7.1.3)\n",
      "Requirement already satisfied: tomli>=1.0.0 in c:\\users\\win11\\appdata\\local\\programs\\python\\python310\\lib\\site-packages (from pytest) (2.0.1)\n",
      "Requirement already satisfied: pluggy<2.0,>=0.12 in c:\\users\\win11\\appdata\\local\\programs\\python\\python310\\lib\\site-packages (from pytest) (1.0.0)\n",
      "Requirement already satisfied: colorama in c:\\users\\win11\\appdata\\local\\programs\\python\\python310\\lib\\site-packages (from pytest) (0.4.5)\n",
      "Requirement already satisfied: packaging in c:\\users\\win11\\appdata\\local\\programs\\python\\python310\\lib\\site-packages (from pytest) (21.3)\n",
      "Requirement already satisfied: py>=1.8.2 in c:\\users\\win11\\appdata\\local\\programs\\python\\python310\\lib\\site-packages (from pytest) (1.11.0)\n",
      "Requirement already satisfied: attrs>=19.2.0 in c:\\users\\win11\\appdata\\local\\programs\\python\\python310\\lib\\site-packages (from pytest) (22.1.0)\n",
      "Requirement already satisfied: iniconfig in c:\\users\\win11\\appdata\\local\\programs\\python\\python310\\lib\\site-packages (from pytest) (1.1.1)\n",
      "Requirement already satisfied: pyparsing!=3.0.5,>=2.0.2 in c:\\users\\win11\\appdata\\local\\programs\\python\\python310\\lib\\site-packages (from packaging->pytest) (3.0.9)\n",
      "Requirement already satisfied: ipytest in c:\\users\\win11\\appdata\\local\\programs\\python\\python310\\lib\\site-packages (0.12.0)\n",
      "Requirement already satisfied: pytest>=5.4 in c:\\users\\win11\\appdata\\local\\programs\\python\\python310\\lib\\site-packages (from ipytest) (7.1.3)\n",
      "Requirement already satisfied: packaging in c:\\users\\win11\\appdata\\local\\programs\\python\\python310\\lib\\site-packages (from ipytest) (21.3)\n",
      "Requirement already satisfied: ipython in c:\\users\\win11\\appdata\\local\\programs\\python\\python310\\lib\\site-packages (from ipytest) (8.5.0)\n",
      "Requirement already satisfied: iniconfig in c:\\users\\win11\\appdata\\local\\programs\\python\\python310\\lib\\site-packages (from pytest>=5.4->ipytest) (1.1.1)\n",
      "Requirement already satisfied: tomli>=1.0.0 in c:\\users\\win11\\appdata\\local\\programs\\python\\python310\\lib\\site-packages (from pytest>=5.4->ipytest) (2.0.1)\n",
      "Requirement already satisfied: colorama in c:\\users\\win11\\appdata\\local\\programs\\python\\python310\\lib\\site-packages (from pytest>=5.4->ipytest) (0.4.5)\n",
      "Requirement already satisfied: pluggy<2.0,>=0.12 in c:\\users\\win11\\appdata\\local\\programs\\python\\python310\\lib\\site-packages (from pytest>=5.4->ipytest) (1.0.0)\n",
      "Requirement already satisfied: attrs>=19.2.0 in c:\\users\\win11\\appdata\\local\\programs\\python\\python310\\lib\\site-packages (from pytest>=5.4->ipytest) (22.1.0)\n",
      "Requirement already satisfied: py>=1.8.2 in c:\\users\\win11\\appdata\\local\\programs\\python\\python310\\lib\\site-packages (from pytest>=5.4->ipytest) (1.11.0)\n",
      "Requirement already satisfied: stack-data in c:\\users\\win11\\appdata\\local\\programs\\python\\python310\\lib\\site-packages (from ipython->ipytest) (0.5.1)\n",
      "Requirement already satisfied: decorator in c:\\users\\win11\\appdata\\local\\programs\\python\\python310\\lib\\site-packages (from ipython->ipytest) (5.1.1)\n",
      "Requirement already satisfied: jedi>=0.16 in c:\\users\\win11\\appdata\\local\\programs\\python\\python310\\lib\\site-packages (from ipython->ipytest) (0.18.1)\n",
      "Requirement already satisfied: traitlets>=5 in c:\\users\\win11\\appdata\\local\\programs\\python\\python310\\lib\\site-packages (from ipython->ipytest) (5.4.0)\n",
      "Requirement already satisfied: matplotlib-inline in c:\\users\\win11\\appdata\\local\\programs\\python\\python310\\lib\\site-packages (from ipython->ipytest) (0.1.6)\n",
      "Requirement already satisfied: pygments>=2.4.0 in c:\\users\\win11\\appdata\\local\\programs\\python\\python310\\lib\\site-packages (from ipython->ipytest) (2.13.0)\n",
      "Requirement already satisfied: pickleshare in c:\\users\\win11\\appdata\\local\\programs\\python\\python310\\lib\\site-packages (from ipython->ipytest) (0.7.5)\n",
      "Requirement already satisfied: prompt-toolkit<3.1.0,>3.0.1 in c:\\users\\win11\\appdata\\local\\programs\\python\\python310\\lib\\site-packages (from ipython->ipytest) (3.0.31)\n",
      "Requirement already satisfied: backcall in c:\\users\\win11\\appdata\\local\\programs\\python\\python310\\lib\\site-packages (from ipython->ipytest) (0.2.0)\n",
      "Requirement already satisfied: pyparsing!=3.0.5,>=2.0.2 in c:\\users\\win11\\appdata\\local\\programs\\python\\python310\\lib\\site-packages (from packaging->ipytest) (3.0.9)\n",
      "Requirement already satisfied: parso<0.9.0,>=0.8.0 in c:\\users\\win11\\appdata\\local\\programs\\python\\python310\\lib\\site-packages (from jedi>=0.16->ipython->ipytest) (0.8.3)\n",
      "Requirement already satisfied: wcwidth in c:\\users\\win11\\appdata\\local\\programs\\python\\python310\\lib\\site-packages (from prompt-toolkit<3.1.0,>3.0.1->ipython->ipytest) (0.2.5)\n",
      "Requirement already satisfied: executing in c:\\users\\win11\\appdata\\local\\programs\\python\\python310\\lib\\site-packages (from stack-data->ipython->ipytest) (1.1.0)\n",
      "Requirement already satisfied: pure-eval in c:\\users\\win11\\appdata\\local\\programs\\python\\python310\\lib\\site-packages (from stack-data->ipython->ipytest) (0.2.2)\n",
      "Requirement already satisfied: asttokens in c:\\users\\win11\\appdata\\local\\programs\\python\\python310\\lib\\site-packages (from stack-data->ipython->ipytest) (2.0.8)\n",
      "Requirement already satisfied: six in c:\\users\\win11\\appdata\\local\\programs\\python\\python310\\lib\\site-packages (from asttokens->stack-data->ipython->ipytest) (1.16.0)\n"
     ]
    }
   ],
   "source": [
    "# Let's make sure pytest and ipytest packages are installed\n",
    "# ipytest is required for running pytest inside Jupyter notebooks\n",
    "import sys\n",
    "!{sys.executable} -m pip install pytest\n",
    "!{sys.executable} -m pip install ipytest\n",
    "\n",
    "import ipytest\n",
    "import pytest\n",
    "\n",
    "ipytest.autoconfig()\n",
    "\n",
    "__file__ = 'testing2.ipynb'"
   ]
  },
  {
   "cell_type": "markdown",
   "metadata": {},
   "source": [
    "## [`@pytest.fixture`](https://docs.pytest.org/en/latest/fixture.html#pytest-fixtures-explicit-modular-scalable)\n",
    "Let's consider we have an implemention of `Person` class which we want to test."
   ]
  },
  {
   "cell_type": "code",
   "execution_count": 3,
   "metadata": {},
   "outputs": [],
   "source": [
    "# This would be e.g. in person.py\n",
    "class Person:\n",
    "    def __init__(self, first_name, last_name, age):\n",
    "        self.first_name = first_name\n",
    "        self.last_name = last_name\n",
    "        self.age = age\n",
    "    \n",
    "    @property\n",
    "    def full_name(self):\n",
    "        return '{} {}'.format(self.first_name, self.last_name)\n",
    "    \n",
    "    @property\n",
    "    def as_dict(self):\n",
    "        return {'name': self.full_name, 'age': self.age}\n",
    "        \n",
    "    def increase_age(self, years):\n",
    "        if years < 0:\n",
    "            raise ValueError('Can not make people younger :(')\n",
    "        self.age += years"
   ]
  },
  {
   "cell_type": "markdown",
   "metadata": {},
   "source": [
    "You can easily create resusable testing code by using pytest fixtures. If you introduce your fixtures inside [_conftest.py_](https://docs.pytest.org/en/latest/fixture.html#conftest-py-sharing-fixture-functions), the fixtures are available for all your test cases. In general, the location of _conftest.py_ is at the root of your _tests_ directory."
   ]
  },
  {
   "cell_type": "code",
   "execution_count": 4,
   "metadata": {},
   "outputs": [],
   "source": [
    "# This would be in either conftest.py or test_person.py\n",
    "@pytest.fixture()\n",
    "def default_person():\n",
    "    person = Person(first_name='John', last_name='Doe', age=82)\n",
    "    return person"
   ]
  },
  {
   "cell_type": "markdown",
   "metadata": {},
   "source": [
    "Then you can utilize `default_person` fixture in the actual test cases. "
   ]
  },
  {
   "cell_type": "code",
   "execution_count": 5,
   "metadata": {},
   "outputs": [
    {
     "name": "stdout",
     "output_type": "stream",
     "text": [
      "\u001b[32m.\u001b[0m\u001b[32m.\u001b[0m\u001b[32m.\u001b[0m\u001b[32m.\u001b[0m\u001b[32m                                                                                         [100%]\u001b[0m\n",
      "\u001b[32m\u001b[32m\u001b[1m4 passed\u001b[0m\u001b[32m in 0.01s\u001b[0m\u001b[0m\n"
     ]
    },
    {
     "name": "stderr",
     "output_type": "stream",
     "text": [
      "%%run_pytest[clean] and %%run_pytest are deprecated in favor of %%ipytest. %%ipytest will clean tests, evaluate the cell and then run pytest. To disable cleaning, configure ipytest with ipytest.config(clean=False).\n"
     ]
    }
   ],
   "source": [
    "%%run_pytest[clean]\n",
    "\n",
    "# These would be in test_person.py\n",
    "def test_full_name(default_person): # Note: we use fixture as an argument of the test case\n",
    "    result = default_person.full_name\n",
    "    assert result == 'John Doe'\n",
    "    \n",
    "    \n",
    "def test_as_dict(default_person):\n",
    "    expected = {'name': 'John Doe', 'age': 82}\n",
    "    result = default_person.as_dict\n",
    "    assert result == expected\n",
    "    \n",
    "    \n",
    "def test_increase_age(default_person):\n",
    "    default_person.increase_age(1)\n",
    "    assert default_person.age == 83\n",
    "    \n",
    "    default_person.increase_age(10)\n",
    "    assert default_person.age == 93\n",
    "    \n",
    "    \n",
    "def test_increase_age_with_negative_number(default_person):\n",
    "    with pytest.raises(ValueError):\n",
    "        default_person.increase_age(-1)"
   ]
  },
  {
   "cell_type": "markdown",
   "metadata": {},
   "source": [
    "By using a fixture, we could use the same `default_person` for all our four test cases!\n",
    "\n",
    "In the `test_increase_age_with_negative_number` we used [`pytest.raises`](https://docs.pytest.org/en/latest/assert.html#assertions-about-expected-exceptions) to verify that an exception is raised. "
   ]
  },
  {
   "cell_type": "markdown",
   "metadata": {},
   "source": [
    "## [`@pytest.mark.parametrize`](https://docs.pytest.org/en/latest/parametrize.html#pytest-mark-parametrize-parametrizing-test-functions)\n",
    "Sometimes you want to test the same functionality with multiple different inputs. `pytest.mark.parametrize` is your solution for defining multiple different inputs with expected outputs. Let's consider the following implementation of `replace_names` function. "
   ]
  },
  {
   "cell_type": "code",
   "execution_count": 6,
   "metadata": {},
   "outputs": [],
   "source": [
    "# This would be e.g. in string_manipulate.py\n",
    "def replace_names(original_str, new_name):\n",
    "    \"\"\"Replaces names (uppercase words) of original_str by new_name\"\"\"\n",
    "    words = original_str.split()\n",
    "    manipulated_words = [new_name if w.istitle() else w for w in words]\n",
    "    return ' '.join(manipulated_words)"
   ]
  },
  {
   "cell_type": "markdown",
   "metadata": {},
   "source": [
    "We can test the `replace_names` function with multiple inputs by using `pytest.mark.parametrize`."
   ]
  },
  {
   "cell_type": "code",
   "execution_count": 17,
   "metadata": {},
   "outputs": [
    {
     "name": "stdout",
     "output_type": "stream",
     "text": [
      "\u001b[32m.\u001b[0m\u001b[32m.\u001b[0m\u001b[32m.\u001b[0m\u001b[32m                                                                                          [100%]\u001b[0m"
     ]
    },
    {
     "name": "stderr",
     "output_type": "stream",
     "text": [
      "%%run_pytest[clean] and %%run_pytest are deprecated in favor of %%ipytest. %%ipytest will clean tests, evaluate the cell and then run pytest. To disable cleaning, configure ipytest with ipytest.config(clean=False).\n"
     ]
    },
    {
     "name": "stdout",
     "output_type": "stream",
     "text": [
      "\n",
      "\u001b[32m\u001b[32m\u001b[1m3 passed\u001b[0m\u001b[32m in 0.29s\u001b[0m\u001b[0m\n"
     ]
    }
   ],
   "source": [
    "%%run_pytest[clean]\n",
    "\n",
    "# This would be in your test module\n",
    "@pytest.mark.parametrize(\"original,new_name,expected\", [\n",
    "        ('this is Lisa', 'John Doe', 'this is John Doe'),\n",
    "        ('how about Frank and Amy', 'John', 'how about John and John'),\n",
    "        ('no names here', 'John Doe', 'no names here'),\n",
    "    ])\n",
    "def test_replace_names(original, new_name, expected):\n",
    "    result = replace_names(original, new_name)\n",
    "    assert result == expected\n",
    "    "
   ]
  },
  {
   "cell_type": "code",
   "execution_count": null,
   "metadata": {},
   "outputs": [],
   "source": []
  }
 ],
 "metadata": {
  "kernelspec": {
   "display_name": "Python 3 (ipykernel)",
   "language": "python",
   "name": "python3"
  },
  "language_info": {
   "codemirror_mode": {
    "name": "ipython",
    "version": 3
   },
   "file_extension": ".py",
   "mimetype": "text/x-python",
   "name": "python",
   "nbconvert_exporter": "python",
   "pygments_lexer": "ipython3",
   "version": "3.10.7"
  }
 },
 "nbformat": 4,
 "nbformat_minor": 2
}
