{
 "cells": [
  {
   "cell_type": "code",
   "execution_count": 1,
   "metadata": {
    "scrolled": true
   },
   "outputs": [
    {
     "name": "stdout",
     "output_type": "stream",
     "text": [
      "Requirement already satisfied: pytest in c:\\users\\win11\\appdata\\local\\programs\\python\\python310\\lib\\site-packages (7.1.3)\n",
      "Requirement already satisfied: attrs>=19.2.0 in c:\\users\\win11\\appdata\\local\\programs\\python\\python310\\lib\\site-packages (from pytest) (22.1.0)\n",
      "Requirement already satisfied: colorama in c:\\users\\win11\\appdata\\local\\programs\\python\\python310\\lib\\site-packages (from pytest) (0.4.5)\n",
      "Requirement already satisfied: pluggy<2.0,>=0.12 in c:\\users\\win11\\appdata\\local\\programs\\python\\python310\\lib\\site-packages (from pytest) (1.0.0)\n",
      "Requirement already satisfied: py>=1.8.2 in c:\\users\\win11\\appdata\\local\\programs\\python\\python310\\lib\\site-packages (from pytest) (1.11.0)\n",
      "Requirement already satisfied: iniconfig in c:\\users\\win11\\appdata\\local\\programs\\python\\python310\\lib\\site-packages (from pytest) (1.1.1)\n",
      "Requirement already satisfied: tomli>=1.0.0 in c:\\users\\win11\\appdata\\local\\programs\\python\\python310\\lib\\site-packages (from pytest) (2.0.1)\n",
      "Requirement already satisfied: packaging in c:\\users\\win11\\appdata\\local\\programs\\python\\python310\\lib\\site-packages (from pytest) (21.3)\n",
      "Requirement already satisfied: pyparsing!=3.0.5,>=2.0.2 in c:\\users\\win11\\appdata\\local\\programs\\python\\python310\\lib\\site-packages (from packaging->pytest) (3.0.9)\n",
      "\n",
      "[notice] A new release of pip available: 22.2 -> 22.2.2\n",
      "[notice] To update, run: C:\\Users\\win11\\AppData\\Local\\Programs\\Python\\Python310\\python.exe -m pip install --upgrade pip\n",
      "Requirement already satisfied: ipytest in c:\\users\\win11\\appdata\\local\\programs\\python\\python310\\lib\\site-packages (0.12.0)\n",
      "Requirement already satisfied: ipython in c:\\users\\win11\\appdata\\local\\programs\\python\\python310\\lib\\site-packages (from ipytest) (8.5.0)\n",
      "Requirement already satisfied: pytest>=5.4 in c:\\users\\win11\\appdata\\local\\programs\\python\\python310\\lib\\site-packages (from ipytest) (7.1.3)\n",
      "Requirement already satisfied: packaging in c:\\users\\win11\\appdata\\local\\programs\\python\\python310\\lib\\site-packages (from ipytest) (21.3)\n",
      "Requirement already satisfied: py>=1.8.2 in c:\\users\\win11\\appdata\\local\\programs\\python\\python310\\lib\\site-packages (from pytest>=5.4->ipytest) (1.11.0)\n",
      "Requirement already satisfied: tomli>=1.0.0 in c:\\users\\win11\\appdata\\local\\programs\\python\\python310\\lib\\site-packages (from pytest>=5.4->ipytest) (2.0.1)\n",
      "Requirement already satisfied: attrs>=19.2.0 in c:\\users\\win11\\appdata\\local\\programs\\python\\python310\\lib\\site-packages (from pytest>=5.4->ipytest) (22.1.0)\n",
      "Requirement already satisfied: pluggy<2.0,>=0.12 in c:\\users\\win11\\appdata\\local\\programs\\python\\python310\\lib\\site-packages (from pytest>=5.4->ipytest) (1.0.0)\n",
      "Requirement already satisfied: iniconfig in c:\\users\\win11\\appdata\\local\\programs\\python\\python310\\lib\\site-packages (from pytest>=5.4->ipytest) (1.1.1)\n",
      "Requirement already satisfied: colorama in c:\\users\\win11\\appdata\\local\\programs\\python\\python310\\lib\\site-packages (from pytest>=5.4->ipytest) (0.4.5)\n",
      "Requirement already satisfied: decorator in c:\\users\\win11\\appdata\\local\\programs\\python\\python310\\lib\\site-packages (from ipython->ipytest) (5.1.1)\n",
      "Requirement already satisfied: traitlets>=5 in c:\\users\\win11\\appdata\\local\\programs\\python\\python310\\lib\\site-packages (from ipython->ipytest) (5.4.0)\n",
      "Requirement already satisfied: stack-data in c:\\users\\win11\\appdata\\local\\programs\\python\\python310\\lib\\site-packages (from ipython->ipytest) (0.5.1)\n",
      "Requirement already satisfied: pickleshare in c:\\users\\win11\\appdata\\local\\programs\\python\\python310\\lib\\site-packages (from ipython->ipytest) (0.7.5)\n",
      "Requirement already satisfied: jedi>=0.16 in c:\\users\\win11\\appdata\\local\\programs\\python\\python310\\lib\\site-packages (from ipython->ipytest) (0.18.1)\n",
      "Requirement already satisfied: matplotlib-inline in c:\\users\\win11\\appdata\\local\\programs\\python\\python310\\lib\\site-packages (from ipython->ipytest) (0.1.6)\n",
      "Requirement already satisfied: pygments>=2.4.0 in c:\\users\\win11\\appdata\\local\\programs\\python\\python310\\lib\\site-packages (from ipython->ipytest) (2.13.0)\n",
      "Requirement already satisfied: prompt-toolkit<3.1.0,>3.0.1 in c:\\users\\win11\\appdata\\local\\programs\\python\\python310\\lib\\site-packages (from ipython->ipytest) (3.0.31)\n",
      "Requirement already satisfied: backcall in c:\\users\\win11\\appdata\\local\\programs\\python\\python310\\lib\\site-packages (from ipython->ipytest) (0.2.0)\n",
      "Requirement already satisfied: pyparsing!=3.0.5,>=2.0.2 in c:\\users\\win11\\appdata\\local\\programs\\python\\python310\\lib\\site-packages (from packaging->ipytest) (3.0.9)\n",
      "Requirement already satisfied: parso<0.9.0,>=0.8.0 in c:\\users\\win11\\appdata\\local\\programs\\python\\python310\\lib\\site-packages (from jedi>=0.16->ipython->ipytest) (0.8.3)\n",
      "Requirement already satisfied: wcwidth in c:\\users\\win11\\appdata\\local\\programs\\python\\python310\\lib\\site-packages (from prompt-toolkit<3.1.0,>3.0.1->ipython->ipytest) (0.2.5)\n",
      "Requirement already satisfied: pure-eval in c:\\users\\win11\\appdata\\local\\programs\\python\\python310\\lib\\site-packages (from stack-data->ipython->ipytest) (0.2.2)\n",
      "Requirement already satisfied: asttokens in c:\\users\\win11\\appdata\\local\\programs\\python\\python310\\lib\\site-packages (from stack-data->ipython->ipytest) (2.0.8)\n",
      "Requirement already satisfied: executing in c:\\users\\win11\\appdata\\local\\programs\\python\\python310\\lib\\site-packages (from stack-data->ipython->ipytest) (1.1.0)\n",
      "Requirement already satisfied: six in c:\\users\\win11\\appdata\\local\\programs\\python\\python310\\lib\\site-packages (from asttokens->stack-data->ipython->ipytest) (1.16.0)\n",
      "\n",
      "[notice] A new release of pip available: 22.2 -> 22.2.2\n",
      "[notice] To update, run: C:\\Users\\win11\\AppData\\Local\\Programs\\Python\\Python310\\python.exe -m pip install --upgrade pip\n"
     ]
    }
   ],
   "source": [
    "# Required boilerplate\n",
    "import sys\n",
    "!{sys.executable} -m pip install pytest\n",
    "!{sys.executable} -m pip install ipytest\n",
    "\n",
    "import ipytest\n",
    "import pytest\n",
    "\n",
    "ipytest.autoconfig()\n",
    "\n",
    "__file__ = 'testing1_exercise.ipynb'"
   ]
  },
  {
   "cell_type": "markdown",
   "metadata": {},
   "source": [
    "# 1. Creating your first test case\n",
    "There is an implementation for `get_divisible_by_five` function in the cell below. Your task is to create a test case for this function to verify that it works correctly.\n"
   ]
  },
  {
   "cell_type": "code",
   "execution_count": 4,
   "metadata": {
    "editable": false
   },
   "outputs": [],
   "source": [
    "def get_divisible_by_five(numbers):\n",
    "    '''Returns a list of numbers which are divisible by five in the list got as an argument'''\n",
    "    result = []\n",
    "    for num in numbers:\n",
    "        if not num % 5:\n",
    "            result.append(num)\n",
    "\n",
    "    return result"
   ]
  },
  {
   "cell_type": "code",
   "execution_count": 9,
   "metadata": {},
   "outputs": [
    {
     "name": "stdout",
     "output_type": "stream",
     "text": [
      "\u001b[32m.\u001b[0m\u001b[32m                                                                                            [100%]\u001b[0m\n",
      "\u001b[32m\u001b[32m\u001b[1m1 passed\u001b[0m\u001b[32m in 0.01s\u001b[0m\u001b[0m\n"
     ]
    }
   ],
   "source": [
    "%%ipytest\n",
    "#%%run_pytest[clean]\n",
    "\n",
    "\n",
    "def test_get_divisible_by_five():\n",
    "    # Your implementation here\n",
    "    nums = [12, 15, 2, 4, 5, 50, 7183, 5000]\n",
    "    \n",
    "    solution = get_divisible_by_five(nums)\n",
    "    \n",
    "    assert solution == [15, 5, 50, 5000]\n"
   ]
  },
  {
   "cell_type": "code",
   "execution_count": null,
   "metadata": {},
   "outputs": [],
   "source": []
  }
 ],
 "metadata": {
  "kernelspec": {
   "display_name": "Python 3 (ipykernel)",
   "language": "python",
   "name": "python3"
  },
  "language_info": {
   "codemirror_mode": {
    "name": "ipython",
    "version": 3
   },
   "file_extension": ".py",
   "mimetype": "text/x-python",
   "name": "python",
   "nbconvert_exporter": "python",
   "pygments_lexer": "ipython3",
   "version": "3.10.4"
  }
 },
 "nbformat": 4,
 "nbformat_minor": 2
}
