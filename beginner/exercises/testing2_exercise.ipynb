{
 "cells": [
  {
   "cell_type": "code",
   "execution_count": 1,
   "metadata": {
    "scrolled": true
   },
   "outputs": [
    {
     "name": "stdout",
     "output_type": "stream",
     "text": [
      "Requirement already satisfied: pytest in c:\\users\\win11\\appdata\\local\\programs\\python\\python310\\lib\\site-packages (7.1.3)\n",
      "Requirement already satisfied: tomli>=1.0.0 in c:\\users\\win11\\appdata\\local\\programs\\python\\python310\\lib\\site-packages (from pytest) (2.0.1)\n",
      "Requirement already satisfied: colorama in c:\\users\\win11\\appdata\\local\\programs\\python\\python310\\lib\\site-packages (from pytest) (0.4.5)\n",
      "Requirement already satisfied: py>=1.8.2 in c:\\users\\win11\\appdata\\local\\programs\\python\\python310\\lib\\site-packages (from pytest) (1.11.0)\n",
      "Requirement already satisfied: attrs>=19.2.0 in c:\\users\\win11\\appdata\\local\\programs\\python\\python310\\lib\\site-packages (from pytest) (22.1.0)\n",
      "Requirement already satisfied: pluggy<2.0,>=0.12 in c:\\users\\win11\\appdata\\local\\programs\\python\\python310\\lib\\site-packages (from pytest) (1.0.0)\n",
      "Requirement already satisfied: iniconfig in c:\\users\\win11\\appdata\\local\\programs\\python\\python310\\lib\\site-packages (from pytest) (1.1.1)\n",
      "Requirement already satisfied: packaging in c:\\users\\win11\\appdata\\local\\programs\\python\\python310\\lib\\site-packages (from pytest) (21.3)\n",
      "Requirement already satisfied: pyparsing!=3.0.5,>=2.0.2 in c:\\users\\win11\\appdata\\local\\programs\\python\\python310\\lib\\site-packages (from packaging->pytest) (3.0.9)\n",
      "Requirement already satisfied: ipytest in c:\\users\\win11\\appdata\\local\\programs\\python\\python310\\lib\\site-packages (0.12.0)\n",
      "Requirement already satisfied: ipython in c:\\users\\win11\\appdata\\local\\programs\\python\\python310\\lib\\site-packages (from ipytest) (8.5.0)\n",
      "Requirement already satisfied: packaging in c:\\users\\win11\\appdata\\local\\programs\\python\\python310\\lib\\site-packages (from ipytest) (21.3)\n",
      "Requirement already satisfied: pytest>=5.4 in c:\\users\\win11\\appdata\\local\\programs\\python\\python310\\lib\\site-packages (from ipytest) (7.1.3)\n",
      "Requirement already satisfied: tomli>=1.0.0 in c:\\users\\win11\\appdata\\local\\programs\\python\\python310\\lib\\site-packages (from pytest>=5.4->ipytest) (2.0.1)\n",
      "Requirement already satisfied: iniconfig in c:\\users\\win11\\appdata\\local\\programs\\python\\python310\\lib\\site-packages (from pytest>=5.4->ipytest) (1.1.1)\n",
      "Requirement already satisfied: py>=1.8.2 in c:\\users\\win11\\appdata\\local\\programs\\python\\python310\\lib\\site-packages (from pytest>=5.4->ipytest) (1.11.0)\n",
      "Requirement already satisfied: colorama in c:\\users\\win11\\appdata\\local\\programs\\python\\python310\\lib\\site-packages (from pytest>=5.4->ipytest) (0.4.5)\n",
      "Requirement already satisfied: attrs>=19.2.0 in c:\\users\\win11\\appdata\\local\\programs\\python\\python310\\lib\\site-packages (from pytest>=5.4->ipytest) (22.1.0)\n",
      "Requirement already satisfied: pluggy<2.0,>=0.12 in c:\\users\\win11\\appdata\\local\\programs\\python\\python310\\lib\\site-packages (from pytest>=5.4->ipytest) (1.0.0)\n",
      "Requirement already satisfied: pickleshare in c:\\users\\win11\\appdata\\local\\programs\\python\\python310\\lib\\site-packages (from ipython->ipytest) (0.7.5)\n",
      "Requirement already satisfied: decorator in c:\\users\\win11\\appdata\\local\\programs\\python\\python310\\lib\\site-packages (from ipython->ipytest) (5.1.1)\n",
      "Requirement already satisfied: backcall in c:\\users\\win11\\appdata\\local\\programs\\python\\python310\\lib\\site-packages (from ipython->ipytest) (0.2.0)\n",
      "Requirement already satisfied: prompt-toolkit<3.1.0,>3.0.1 in c:\\users\\win11\\appdata\\local\\programs\\python\\python310\\lib\\site-packages (from ipython->ipytest) (3.0.31)\n",
      "Requirement already satisfied: pygments>=2.4.0 in c:\\users\\win11\\appdata\\local\\programs\\python\\python310\\lib\\site-packages (from ipython->ipytest) (2.13.0)\n",
      "Requirement already satisfied: traitlets>=5 in c:\\users\\win11\\appdata\\local\\programs\\python\\python310\\lib\\site-packages (from ipython->ipytest) (5.4.0)\n",
      "Requirement already satisfied: matplotlib-inline in c:\\users\\win11\\appdata\\local\\programs\\python\\python310\\lib\\site-packages (from ipython->ipytest) (0.1.6)\n",
      "Requirement already satisfied: jedi>=0.16 in c:\\users\\win11\\appdata\\local\\programs\\python\\python310\\lib\\site-packages (from ipython->ipytest) (0.18.1)\n",
      "Requirement already satisfied: stack-data in c:\\users\\win11\\appdata\\local\\programs\\python\\python310\\lib\\site-packages (from ipython->ipytest) (0.5.1)\n",
      "Requirement already satisfied: pyparsing!=3.0.5,>=2.0.2 in c:\\users\\win11\\appdata\\local\\programs\\python\\python310\\lib\\site-packages (from packaging->ipytest) (3.0.9)\n",
      "Requirement already satisfied: parso<0.9.0,>=0.8.0 in c:\\users\\win11\\appdata\\local\\programs\\python\\python310\\lib\\site-packages (from jedi>=0.16->ipython->ipytest) (0.8.3)\n",
      "Requirement already satisfied: wcwidth in c:\\users\\win11\\appdata\\local\\programs\\python\\python310\\lib\\site-packages (from prompt-toolkit<3.1.0,>3.0.1->ipython->ipytest) (0.2.5)\n",
      "Requirement already satisfied: asttokens in c:\\users\\win11\\appdata\\local\\programs\\python\\python310\\lib\\site-packages (from stack-data->ipython->ipytest) (2.0.8)\n",
      "Requirement already satisfied: executing in c:\\users\\win11\\appdata\\local\\programs\\python\\python310\\lib\\site-packages (from stack-data->ipython->ipytest) (1.1.0)\n",
      "Requirement already satisfied: pure-eval in c:\\users\\win11\\appdata\\local\\programs\\python\\python310\\lib\\site-packages (from stack-data->ipython->ipytest) (0.2.2)\n",
      "Requirement already satisfied: six in c:\\users\\win11\\appdata\\local\\programs\\python\\python310\\lib\\site-packages (from asttokens->stack-data->ipython->ipytest) (1.16.0)\n"
     ]
    }
   ],
   "source": [
    "# Required boilerplate\n",
    "import sys\n",
    "!{sys.executable} -m pip install pytest\n",
    "!{sys.executable} -m pip install ipytest\n",
    "\n",
    "import ipytest\n",
    "import pytest\n",
    "\n",
    "ipytest.autoconfig()\n",
    "\n",
    "__file__ = 'testing2_exercise.ipynb'"
   ]
  },
  {
   "cell_type": "markdown",
   "metadata": {},
   "source": [
    "# 1. Finalize test cases\n",
    "The testing part of the `TodoList` implementation is incomplete. Fill `____` parts of the tests. "
   ]
  },
  {
   "cell_type": "code",
   "execution_count": 2,
   "metadata": {
    "editable": false
   },
   "outputs": [],
   "source": [
    "class TodoNotFound(Exception):\n",
    "    pass\n",
    "\n",
    "\n",
    "class TodoList:\n",
    "    def __init__(self):\n",
    "        self._todo = {}\n",
    "        self._done = {}\n",
    "        self._task_counter = 1\n",
    "\n",
    "    @property\n",
    "    def todo_tasks(self):\n",
    "        return self._todo\n",
    "\n",
    "    @property\n",
    "    def done_tasks(self):\n",
    "        return self._done\n",
    "\n",
    "    def add(self, task):\n",
    "        self._todo[self._task_counter] = task\n",
    "        self._task_counter += 1\n",
    "\n",
    "    def complete(self, number):\n",
    "        if number not in self._todo:\n",
    "            raise TodoNotFound('{} not in todos'.format(number))\n",
    "\n",
    "        task = self._todo.pop(number)\n",
    "        self._done[number] = task\n",
    "\n",
    "    def remove(self, number):\n",
    "        if number not in self._todo:\n",
    "            raise TodoNotFound('{} not in todos'.format(number))\n",
    "\n",
    "        del self._todo[number]"
   ]
  },
  {
   "cell_type": "markdown",
   "metadata": {},
   "source": [
    "Finalize tests for `TodoList`."
   ]
  },
  {
   "cell_type": "code",
   "execution_count": 20,
   "metadata": {},
   "outputs": [
    {
     "name": "stdout",
     "output_type": "stream",
     "text": [
      "\u001b[32m.\u001b[0m\u001b[32m.\u001b[0m\u001b[32m.\u001b[0m\u001b[32m.\u001b[0m\u001b[32m.\u001b[0m\u001b[32m.\u001b[0m\u001b[32m                                                                                       [100%]\u001b[0m\n",
      "\u001b[32m\u001b[32m\u001b[1m6 passed\u001b[0m\u001b[32m in 0.01s\u001b[0m\u001b[0m\n"
     ]
    },
    {
     "name": "stderr",
     "output_type": "stream",
     "text": [
      "%%run_pytest[clean] and %%run_pytest are deprecated in favor of %%ipytest. %%ipytest will clean tests, evaluate the cell and then run pytest. To disable cleaning, configure ipytest with ipytest.config(clean=False).\n"
     ]
    }
   ],
   "source": [
    "%%run_pytest[clean]\n",
    "\n",
    "\n",
    "@pytest.fixture()\n",
    "def todo_list():\n",
    "    tl = TodoList()\n",
    "    tl.add('buy milk')\n",
    "    tl.add('take dog out')\n",
    "    tl.add('learn pytest fixtures')\n",
    "    return tl\n",
    "\n",
    "\n",
    "def test_todo_tasks_property(todo_list):\n",
    "    todo = todo_list.todo_tasks\n",
    "    assert todo == {\n",
    "        1: 'buy milk',\n",
    "        2: 'take dog out',\n",
    "        3: 'learn pytest fixtures'\n",
    "    }\n",
    "\n",
    "\n",
    "def test_add(todo_list):\n",
    "    todo_list.add('check pytest docs')\n",
    "    todos = todo_list.todo_tasks\n",
    "    assert todos[4] == 'check pytest docs'\n",
    "\n",
    "\n",
    "def test_complete(todo_list):\n",
    "    # Make sure there is not done tasks yet\n",
    "    assert not todo_list.done_tasks\n",
    "\n",
    "    todo_list.complete(3)\n",
    "    done = todo_list.done_tasks\n",
    "    todo = todo_list.todo_tasks\n",
    "    assert done[3] == 'learn pytest fixtures'\n",
    "    assert 3 not in todo\n",
    "\n",
    "\n",
    "def test_complete_with_unknown_task_number(todo_list):\n",
    "    # This is how you can test that a certain exception is raised\n",
    "    with pytest.raises(TodoNotFound):\n",
    "        todo_list.complete(10)\n",
    "\n",
    "\n",
    "def test_remove(todo_list):\n",
    "    todo_list.remove(1)\n",
    "    done = todo_list.done_tasks\n",
    "    todo = todo_list.todo_tasks\n",
    "\n",
    "    assert 1 not in todo\n",
    "    # Make sure it was not moved to done\n",
    "    assert 1 not in done\n",
    "\n",
    "\n",
    "def test_remove_with_unknown_task_number(todo_list):\n",
    "    with pytest.raises(TodoNotFound):\n",
    "        todo_list.remove(12)\n"
   ]
  },
  {
   "cell_type": "markdown",
   "metadata": {},
   "source": [
    "# 2. Testing the [Fibonacci numbers](https://en.wikipedia.org/wiki/Fibonacci_number)\n",
    "\n",
    "Implement a test for the `fibonacci` function. Use `pytest.mark.parametrize` and test at least with numbers: 0, 1, 2, 3, and 10. You can find the expected results and more information about the Fibonacci numbers [here](https://en.wikipedia.org/wiki/Fibonacci_number)."
   ]
  },
  {
   "cell_type": "code",
   "execution_count": 34,
   "metadata": {
    "editable": false
   },
   "outputs": [],
   "source": [
    "def fibonacci(number):\n",
    "    if number in [0, 1]:\n",
    "        return number\n",
    "    return fibonacci(number - 1) + fibonacci(number - 2)"
   ]
  },
  {
   "cell_type": "code",
   "execution_count": 41,
   "metadata": {},
   "outputs": [
    {
     "name": "stdout",
     "output_type": "stream",
     "text": [
      "\u001b[32m.\u001b[0m\u001b[32m.\u001b[0m\u001b[32m.\u001b[0m\u001b[32m.\u001b[0m\u001b[32m.\u001b[0m\u001b[32m                                                                                        [100%]\u001b[0m\n",
      "\u001b[32m\u001b[32m\u001b[1m5 passed\u001b[0m\u001b[32m in 0.01s\u001b[0m\u001b[0m\n"
     ]
    },
    {
     "name": "stderr",
     "output_type": "stream",
     "text": [
      "%%run_pytest[clean] and %%run_pytest are deprecated in favor of %%ipytest. %%ipytest will clean tests, evaluate the cell and then run pytest. To disable cleaning, configure ipytest with ipytest.config(clean=False).\n"
     ]
    }
   ],
   "source": [
    "%%run_pytest[clean]\n",
    "\n",
    "# Your implementation here\n",
    "@pytest.mark.parametrize(\"number,expected\", [( 0 , 0), ( 1 , 1), ( 2 , 1), ( 3 , 2), ( 10 , 55)])\n",
    "        \n",
    "        \n",
    "def test_fibonacci(number, expected):\n",
    "    result = fibonacci(number)\n",
    "    assert result == expected"
   ]
  },
  {
   "cell_type": "code",
   "execution_count": null,
   "metadata": {},
   "outputs": [],
   "source": []
  }
 ],
 "metadata": {
  "kernelspec": {
   "display_name": "Python 3 (ipykernel)",
   "language": "python",
   "name": "python3"
  },
  "language_info": {
   "codemirror_mode": {
    "name": "ipython",
    "version": 3
   },
   "file_extension": ".py",
   "mimetype": "text/x-python",
   "name": "python",
   "nbconvert_exporter": "python",
   "pygments_lexer": "ipython3",
   "version": "3.10.7"
  }
 },
 "nbformat": 4,
 "nbformat_minor": 2
}
